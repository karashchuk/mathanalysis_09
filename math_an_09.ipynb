{
 "cells": [
  {
   "cell_type": "markdown",
   "metadata": {
    "colab_type": "text",
    "id": "zz7SDkPIkVlM"
   },
   "source": [
    "# Решение задания к уроку 9"
   ]
  },
  {
   "cell_type": "markdown",
   "metadata": {
    "colab_type": "text",
    "id": "SmdURZ_OkVqQ"
   },
   "source": [
    "__1.__ Исследовать на условный экстремум функцию\n",
    "\n",
    "### $$U=3-8x+6y,$$\n",
    "\n",
    "если\n",
    "\n",
    "### $$x^2+y^2=36$$"
   ]
  },
  {
   "cell_type": "markdown",
   "metadata": {},
   "source": [
    "$$L(x,y,\\lambda)=3-8x+6y + \\lambda \\cdot (x^2+y^2-36)$$\n",
    "\n",
    "Найдем частные производные, приравняем их к нулю и решим систему уравнений:\n",
    "\n",
    "$$\\begin{cases}\n",
    "   L'_{x}= -8+\\lambda \\cdot2x=0, \\\\\n",
    "   L'_{y}=6+\\lambda \\cdot2y=0, \\\\\n",
    "   L'_{\\lambda}=x^2+y^2-36=0\n",
    " \\end{cases}$$\n",
    "\n"
   ]
  },
  {
   "cell_type": "markdown",
   "metadata": {},
   "source": [
    "\n",
    "$$\\begin{cases}\n",
    "   x=\\frac{8}{2\\lambda}, \\\\\n",
    "   y=-\\frac{6}{2\\lambda}, \\\\\n",
    "   \\Bigr(\\frac{4}{\\lambda}\\Bigl)^2+\\Bigr(-\\frac{3}{\\lambda}\\Bigl)^2=36\n",
    " \\end{cases}\\Rightarrow \n",
    " \\begin{cases}\n",
    "   x=\\frac{4}{\\lambda}, \\\\\n",
    "   y=-\\frac{3}{\\lambda}, \\\\\n",
    "   \\frac{25}{\\lambda^2}=36\n",
    " \\end{cases}\n",
    " \\Rightarrow \n",
    " \\begin{cases}\n",
    "   x=\\frac{4}{\\lambda}, \\\\\n",
    "   y=-\\frac{3}{\\lambda}, \\\\\n",
    "   \\lambda^2=\\frac{36}{25}\n",
    " \\end{cases}$$\n",
    " \n",
    "Получаем две точки: \n",
    "\n",
    "$ P_1 = (\\frac{10}{3},-\\frac{5}{2},\\frac{6}{5})$ \n",
    "\n",
    "$ P_2 = (-\\frac{10}{3},\\frac{5}{2},-\\frac{6}{5})$\n"
   ]
  },
  {
   "cell_type": "markdown",
   "metadata": {},
   "source": [
    "Найдем вторые производные:\n",
    " $$L''_{xx}=2\\lambda$$\n",
    " $$L''_{yy}=2\\lambda$$\n",
    " $$L''_{\\lambda \\lambda}=0$$\n",
    " $$L''_{xy}=L''_{yx}=0$$\n",
    " $$L''_{x\\lambda}=L''_{\\lambda x}=2x$$\n",
    " $$L''_{y\\lambda}=L''_{\\lambda y}=2y$$ \n",
    "\n",
    "Составим матрицу Гёссе:\n",
    " $$\\begin{pmatrix}\n",
    "L''_{\\lambda \\lambda} & L''_{\\lambda x} & L''_{\\lambda y}\\\\ \n",
    "L''_{x \\lambda} & L''_{xx} & L''_{xy}\\\\\n",
    "L''_{y \\lambda} & L''_{yx} & L''_{yy}\\\\\n",
    "\\end{pmatrix}\\Rightarrow\n",
    "\\begin{pmatrix}\n",
    "0 & 2x & 2y\\\\ \n",
    "2x & 2\\lambda & 0\\\\\n",
    "2y & 0 & 2\\lambda\\\\\n",
    "\\end{pmatrix}$$"
   ]
  },
  {
   "cell_type": "code",
   "execution_count": 15,
   "metadata": {},
   "outputs": [
    {
     "name": "stdout",
     "output_type": "stream",
     "text": [
      "Для точки P1 определитель матрицы = -166.6666666666667, следовательно это точка minimum\n",
      "Для точки P2 определитель матрицы = 166.6666666666667, следовательно это точка maximum\n"
     ]
    }
   ],
   "source": [
    "import numpy as np\n",
    "points = [(10/3,-5/2,6/5),(-10/3,5/2,-6/5)]\n",
    "for i in range(len(points)):\n",
    "    x,y,lmb = points[i]\n",
    "    G = np.array([\n",
    "        [0,2*x,2*y],\n",
    "        [2*x,2*lmb,0],\n",
    "        [2*y,0,2*lmb]\n",
    "    ])\n",
    "    d = np.linalg.det(G)\n",
    "    print(f'Для точки P{i+1} определитель матрицы = {d}, следовательно это точка {\"maximum\" if d>0 else \"minimum\"}')"
   ]
  },
  {
   "cell_type": "markdown",
   "metadata": {
    "colab_type": "text",
    "id": "cECfCSANkVqR"
   },
   "source": [
    "__2.__ Исследовать на условный экстремум функцию\n",
    "\n",
    "### $$U=2x^2+12xy+32y^2+15,$$\n",
    "\n",
    "если\n",
    "\n",
    "### $$x^2+16y^2=64$$"
   ]
  },
  {
   "cell_type": "markdown",
   "metadata": {},
   "source": [
    "$$L(x,y,\\lambda)=2x^2+12xy+32y^2+15 + \\lambda \\cdot (x^2+16y^2-64)$$\n",
    "\n"
   ]
  },
  {
   "cell_type": "markdown",
   "metadata": {},
   "source": [
    "Найдем частные производные, приравняем их к нулю и решим систему уравнений:\n",
    "\n",
    "$$\\begin{cases}\n",
    "   L'_{x}= 2x +12y+\\lambda \\cdot2x=0, \\\\\n",
    "   L'_{y}=12x +64y +\\lambda \\cdot32y=0, \\\\\n",
    "   L'_{\\lambda}=x^2+16y^2-64=0\n",
    " \\end{cases}$$\n"
   ]
  },
  {
   "cell_type": "markdown",
   "metadata": {},
   "source": [
    "Из первого уравнения получаем \n",
    "$$ x = -\\frac{6y}{1+\\lambda}$$\n",
    "Подставим во второе получим:\n",
    "\n",
    "$$-\\frac{72y}{1+\\lambda}+64y +\\lambda \\cdot32y = 0$$\n",
    "\n",
    "отсюда получаем:\n",
    "\n",
    "### $\\lambda = \\pm \\sqrt{5/2} - 3/2  $\n",
    "То есть \n",
    "\n",
    "$\\lambda_1 \\approx 0.0811388$\n",
    "\n",
    "$\\lambda_2 \\approx -3.08114$\n",
    "\n",
    "Подставим эти выражения в третье уравнение получим четыре точки:\n",
    "\n",
    "$ P_1 = (x≈-4.67768, y≈-1.62248, \\lambda ≈-3.08114)$ \n",
    "\n",
    "$ P_2 = (4.67768, 1.62248, -3.08114)$\n",
    "\n",
    "$ P_3 = (-6.48994, 1.16942, 0.0811388)$ \n",
    "\n",
    "$ P_4 = (6.48994, -1.16942, 0.0811388)$\n",
    "\n"
   ]
  },
  {
   "cell_type": "markdown",
   "metadata": {},
   "source": [
    "Найдем вторые производные:\n",
    " $$L''_{xx}=2+2\\lambda$$\n",
    " $$L''_{yy}=64+32\\lambda$$\n",
    " $$L''_{\\lambda \\lambda}=0$$\n",
    " $$L''_{xy}=L''_{yx}=12$$\n",
    " $$L''_{x\\lambda}=L''_{\\lambda x}=2x$$\n",
    " $$L''_{y\\lambda}=L''_{\\lambda y}=32y$$ "
   ]
  },
  {
   "cell_type": "code",
   "execution_count": 14,
   "metadata": {},
   "outputs": [
    {
     "name": "stdout",
     "output_type": "stream",
     "text": [
      "Для точки P1 определитель матрицы = 25905.28770715432, следовательно это точка maximum\n",
      "Для точки P2 определитель матрицы = 25905.28770715432, следовательно это точка maximum\n",
      "Для точки P3 определитель матрицы = -25905.38295437391, следовательно это точка minimum\n",
      "Для точки P4 определитель матрицы = -25905.38295437391, следовательно это точка minimum\n"
     ]
    }
   ],
   "source": [
    "#Напишем матрицу Гессе и вычислим определитель\n",
    "\n",
    "points = [(-4.67768,-1.62248,-3.08114),(4.67768,1.62248,-3.08114),(-6.48994,1.16942,0.0811388),(6.48994,-1.16942,0.0811388)]\n",
    "\n",
    "for i in range(len(points)):\n",
    "    x,y,lmb = points[i]\n",
    "    G = np.array([\n",
    "        [0,2*x,32*y],\n",
    "        [2*x,2+2*lmb,12],\n",
    "        [32*y,12,64+32*lmb]\n",
    "    ])\n",
    "    d = np.linalg.det(G)\n",
    "    print(f'Для точки P{i+1} определитель матрицы = {d}, следовательно это точка {\"maximum\" if d>0 else \"minimum\"}')"
   ]
  },
  {
   "cell_type": "markdown",
   "metadata": {
    "colab_type": "text",
    "id": "DFrjdtbHkVqS"
   },
   "source": [
    "__3.__ Численно найти хотя бы один действительный корень системы нелинейных уравнений:\n",
    "### $$\\begin{cases}\n",
    "   x^2-y^2+3xy^3-2x^2y^2+2x-3y-5=0 \\\\\n",
    "   3y^3-2x^2+2x^3y-5x^2y^2+5=0\n",
    " \\end{cases}$$"
   ]
  },
  {
   "cell_type": "code",
   "execution_count": 45,
   "metadata": {},
   "outputs": [
    {
     "name": "stdout",
     "output_type": "stream",
     "text": [
      "Значения параметров:\n",
      "x = 1.375687140388597\n",
      "y = -0.17475798540737905\n",
      "достоверность = 1\n"
     ]
    }
   ],
   "source": [
    "import numpy as np\n",
    "from scipy.optimize import fsolve, broyden2\n",
    "import math\n",
    "\n",
    "def equations(p):\n",
    "    x, y = p\n",
    "    u1 = x**2-y**2+3*x*y**3-2*x**2*y**2+2*x-3*y-5\n",
    "    u2 = 3*y**3-2*x**2+2*x**3*y-5*x**2*y**2+5\n",
    "    return (u1, u2)\n",
    "\n",
    "xy, info, ier,m =  fsolve(equations, (1,1), full_output=True)\n",
    "print (f'Значения параметров:\\nx = {xy[0]}\\ny = {xy[1]}\\nдостоверность = {ier}')\n"
   ]
  },
  {
   "cell_type": "markdown",
   "metadata": {
    "colab_type": "text",
    "id": "5la-eVLukVqT"
   },
   "source": [
    "__4*.__ Численно найти все $5$ действительных корней."
   ]
  },
  {
   "cell_type": "code",
   "execution_count": 57,
   "metadata": {},
   "outputs": [
    {
     "name": "stdout",
     "output_type": "stream",
     "text": [
      "x1 =\t -3.65307996, \ty1 = \t-0.27476342\n",
      "x2 =\t 2.49435654, \ty2 = \t0.70831752\n",
      "x3 =\t 2.21775364, \ty3 = \t0.61019398\n",
      "x4 =\t 1.37568714, \ty4 = \t-0.17475799\n",
      "x5 =\t 1.27330206, \ty5 = \t1.66203912\n"
     ]
    }
   ],
   "source": [
    "import numpy as np\n",
    "from scipy.optimize import fsolve, broyden2\n",
    "import math\n",
    "\n",
    "def equations(p):\n",
    "    x, y = p\n",
    "    u1 = x**2-y**2+3*x*y**3-2*x**2*y**2+2*x-3*y-5\n",
    "    u2 = 3*y**3-2*x**2+2*x**3*y-5*x**2*y**2+5\n",
    "    return (u1, u2)\n",
    "\n",
    "solv = set()\n",
    "for a in np.arange (-5, 5, 1):\n",
    "    for b in np.arange(-3,3,1):\n",
    "        xy, info, ier, mesg =  fsolve(equations, (a,b), full_output=True)\n",
    "        if (ier == 1): \n",
    "            x,y = round(xy[0],8), round(xy[1],8)\n",
    "            solv.add((x,y))\n",
    "#print (solv)\n",
    "sol = list(solv)\n",
    "for i in range(len(sol)):\n",
    "    print(f'x{i+1} =\\t {sol[i][0]}, \\ty{i+1} = \\t{sol[i][1]}')"
   ]
  },
  {
   "cell_type": "markdown",
   "metadata": {
    "colab_type": "text",
    "id": "jJT2pGWCxqBZ"
   },
   "source": [
    "__5*.__ Даны две функции $y_{1}=f(x)$ и $y_{2}=g(x)$. Известно, что:\n",
    "\n",
    "### $$f'(x)=\\frac{1}{2}g(x)$$\n",
    "\n",
    "### $$g'(x)=2-2f(x)$$\n",
    "\n",
    "### $$f(0)=0$$\n",
    "\n",
    "### $$g(0)=1$$\n",
    "\n",
    "Восстановить функции $y_{1}=f(x)$ и $y_{2}=g(x)$ с помощью формулы:\n",
    "\n",
    "### $$f(x+\\Delta x) \\approx f(x)+f'(x) \\cdot \\Delta x$$\n",
    "\n",
    "на участке $[0, 20]$\n",
    "\n",
    "В качестве решения построить график этих функций в одной системе координат.\n"
   ]
  },
  {
   "cell_type": "code",
   "execution_count": 114,
   "metadata": {},
   "outputs": [
    {
     "data": {
      "image/png": "[encoded data removed]",
      "text/plain": [
       "<Figure size 432x288 with 1 Axes>"
      ]
     },
     "metadata": {
      "needs_background": "light"
     },
     "output_type": "display_data"
    }
   ],
   "source": [
    "import numpy as np\n",
    "import matplotlib.pyplot as plt\n",
    "%matplotlib inline\n",
    "\n",
    "x =  np.linspace(0, 20, 201)\n",
    "# Задаем рандомное распределение точек\n",
    "step = x[1]-x[0]\n",
    "f = [0.]\n",
    "g = [1.]\n",
    "for i in range(1,201):\n",
    "    f.append(f[i-1]+1/2*g[i-1]*step)\n",
    "    g.append(g[i-1]+(2-f[i-1])*step)\n",
    "\n",
    "plt.plot(x,f, c='r')\n",
    "plt.plot(x,g, c='green')\n",
    "plt.grid()\n",
    "plt.show()"
   ]
  },
  {
   "cell_type": "markdown",
   "metadata": {
    "colab_type": "text",
    "id": "9ixsx4-KxqBa"
   },
   "source": [
    "__6**.__ Найти все корни уравнения:\n",
    "    \n",
    "### $$f(x)=g(x)$$\n",
    "\n",
    "на участке $[0, 20]$\n",
    "\n",
    "Где $y_{1}=f(x)$ и $y_{2}=g(x)$ - функции из предыдущего решения."
   ]
  },
  {
   "cell_type": "code",
   "execution_count": 115,
   "metadata": {},
   "outputs": [
    {
     "data": {
      "text/plain": [
       "[2.3000000000000003, 8.200000000000001, 11.4, 17.0]"
      ]
     },
     "execution_count": 115,
     "metadata": {},
     "output_type": "execute_result"
    }
   ],
   "source": [
    "# сначала вычислим наиболее близкие точки к корням \n",
    "slt = []\n",
    "eps = 0.15\n",
    "for i in range(1,201):\n",
    "    if abs(f[i] - g[i]) < eps:\n",
    "        slt.append(i)\n",
    "xs=[]\n",
    "for k in slt:\n",
    "    xs.append(x[k])\n",
    "xs"
   ]
  },
  {
   "cell_type": "code",
   "execution_count": 116,
   "metadata": {},
   "outputs": [
    {
     "data": {
      "text/plain": [
       "[2.329968, 8.200043, 11.397943, 16.96506]"
      ]
     },
     "execution_count": 116,
     "metadata": {},
     "output_type": "execute_result"
    }
   ],
   "source": [
    "# Затем вычислим более точно корни\n",
    "eps = 0.000001 #зададим точность вычисления корней\n",
    "nn = int(1/eps)+1\n",
    "xnew =[]\n",
    "for i in slt:\n",
    "    f1 = [f[i-1]] \n",
    "    g1 = [g[i-1]]\n",
    "    z = np.linspace(x[i-1],x[i+1],nn+1) # разобьем окрестность вычисленных точек на большее коичсетво интервалов\n",
    "    step = z[1]-z[0]\n",
    "    for j in range(1,nn+1):\n",
    "        f1.append(f1[j-1]+1/2*g1[j-1]*step)\n",
    "        g1.append(g1[j-1]+(2-f1[j-1])*step)\n",
    "        if abs(f1[j]-g1[j]) < eps: # если разность между f и g меньше точности в точки то это и будет вычисляемый корень\n",
    "            xnew.append(round(z[j],int(math.log(nn,10)))) # \n",
    "            break\n",
    "xnew"
   ]
  }
 ],
 "metadata": {
  "colab": {
   "collapsed_sections": [],
   "name": "Lesson_9.ipynb",
   "provenance": []
  },
  "kernelspec": {
   "display_name": "Python 3",
   "language": "python",
   "name": "python3"
  },
  "language_info": {
   "codemirror_mode": {
    "name": "ipython",
    "version": 3
   },
   "file_extension": ".py",
   "mimetype": "text/x-python",
   "name": "python",
   "nbconvert_exporter": "python",
   "pygments_lexer": "ipython3",
   "version": "3.7.4"
  }
 },
 "nbformat": 4,
 "nbformat_minor": 1
}
